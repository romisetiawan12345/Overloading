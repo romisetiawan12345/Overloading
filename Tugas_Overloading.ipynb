{
  "nbformat": 4,
  "nbformat_minor": 0,
  "metadata": {
    "colab": {
      "provenance": [],
      "include_colab_link": true
    },
    "kernelspec": {
      "name": "python3",
      "display_name": "Python 3"
    },
    "language_info": {
      "name": "python"
    }
  },
  "cells": [
    {
      "cell_type": "markdown",
      "metadata": {
        "id": "view-in-github",
        "colab_type": "text"
      },
      "source": [
        "<a href=\"https://colab.research.google.com/github/romisetiawan12345/Overloading/blob/main/Tugas_Overloading.ipynb\" target=\"_parent\"><img src=\"https://colab.research.google.com/assets/colab-badge.svg\" alt=\"Open In Colab\"/></a>"
      ]
    },
    {
      "cell_type": "code",
      "execution_count": 18,
      "metadata": {
        "id": "cytAUNWzM1-6"
      },
      "outputs": [],
      "source": [
        "#Buat Perkalian yang memiliki Sebuah fungsi dangan nama Hitung\n",
        "#method hasil() dengan variasi parameter\n",
        "#Buat Perkalian yang memiliki Sebuah fungsi dangan nama Hitung\n",
        "class Perkalian:\n",
        "    # method hasil() dengan variasi parameter\n",
        "    def hasil(self, *args):\n",
        "        kali = 1\n",
        "        for angka in args:\n",
        "            kali *= angka\n",
        "        print(kali)"
      ]
    },
    {
      "cell_type": "code",
      "source": [
        "#Buat main program\n",
        "#Panggil fungsi Hitung untuk menghitung 2 parameter\n",
        "#Panggil fungsi Hitung untuk menghitung 3 parameter\n",
        "#Panggil fungsi Hitung untuk menghitung 4 parameter\n",
        "coba = Perkalian()\n",
        "\n",
        "coba.hasil(1, 2)\n",
        "coba.hasil(1, 2, 3)\n",
        "coba.hasil(1, 2, 3, 4, 5)"
      ],
      "metadata": {
        "id": "W9hN-kX7PDUI",
        "outputId": "35b424d1-dbb9-4b5d-ee3d-f21900913884",
        "colab": {
          "base_uri": "https://localhost:8080/"
        }
      },
      "execution_count": 19,
      "outputs": [
        {
          "output_type": "stream",
          "name": "stdout",
          "text": [
            "2\n",
            "6\n",
            "120\n"
          ]
        }
      ]
    },
    {
      "cell_type": "code",
      "source": [
        "class Perkalian:\n",
        "    # method hasil() dengan variasi parameter\n",
        "    def hasil(self, *args):\n",
        "      if (len(args) <= 4):\n",
        "        kali = 1\n",
        "        for angka in args:\n",
        "            kali *= angka\n",
        "        print(kali)\n",
        "      else:\n",
        "        print(\"Maksimal 4 Argumen!!!!\")\n",
        ""
      ],
      "metadata": {
        "id": "B4tOn7i-B5-0"
      },
      "execution_count": 20,
      "outputs": []
    },
    {
      "cell_type": "code",
      "source": [
        "coba = Perkalian()\n",
        "\n",
        "coba.hasil(1, 2)\n",
        "coba.hasil(1, 2, 3)\n",
        "coba.hasil(1, 2, 3, 4)\n",
        "coba.hasil(1, 2, 3, 4, 5)"
      ],
      "metadata": {
        "id": "Y2ZUbFcDB6Lq",
        "outputId": "943686af-37cd-4037-b47c-a0a0fd54efca",
        "colab": {
          "base_uri": "https://localhost:8080/"
        }
      },
      "execution_count": 21,
      "outputs": [
        {
          "output_type": "stream",
          "name": "stdout",
          "text": [
            "2\n",
            "6\n",
            "24\n",
            "Maksimal 4 Argumen!!!!\n"
          ]
        }
      ]
    }
  ]
}